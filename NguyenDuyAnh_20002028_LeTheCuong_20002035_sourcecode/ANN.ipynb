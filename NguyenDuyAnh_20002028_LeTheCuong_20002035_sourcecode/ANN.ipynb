{
 "cells": [
  {
   "cell_type": "markdown",
   "id": "77fcfcfc",
   "metadata": {},
   "source": [
    "@This notebook is written by Duy Anh Nguyen"
   ]
  },
  {
   "cell_type": "markdown",
   "id": "da85bffc",
   "metadata": {},
   "source": [
    "<center>\n",
    "    <h1>\n",
    "        Xây dựng mô hình Artificial Neural Networks\n",
    "    </h1>\n",
    "</center>"
   ]
  },
  {
   "cell_type": "markdown",
   "id": "813c5703",
   "metadata": {},
   "source": [
    "<h3>\n",
    "1. Khai báo các thư viện\n",
    "</h3>"
   ]
  },
  {
   "cell_type": "markdown",
   "id": "b6fb9f61",
   "metadata": {},
   "source": [
    "Khai báo các thư viện cần thiết"
   ]
  },
  {
   "cell_type": "code",
   "execution_count": 1,
   "id": "a62531dd",
   "metadata": {},
   "outputs": [],
   "source": [
    "import warnings\n",
    "warnings.filterwarnings(\"ignore\")\n",
    "import idx2numpy\n",
    "import numpy as np\n",
    "import copy\n",
    "import matplotlib.pyplot as plt\n",
    "\n",
    "# Các hàm đánh giá mô hình trong scikit-learn\n",
    "from sklearn.metrics import accuracy_score, precision_score, recall_score, f1_score"
   ]
  },
  {
   "cell_type": "markdown",
   "id": "d9ec075a",
   "metadata": {},
   "source": [
    "Trước tiên, cũng giống với việc xây dựng mô hình Multinomial Logistic, ta cũng sẽ thực hiện việc xử lý dữ liệu, từ bước đọc dữ liệu, đến giảm chiều và chuẩn hoá khoảng giá trị của từng thuộc tính về giá trị trong khoảng $[0, 1]$ "
   ]
  },
  {
   "cell_type": "markdown",
   "id": "55b9fe95",
   "metadata": {},
   "source": [
    "<h3>\n",
    "2. Đọc dữ liệu MNIST\n",
    "</h3>"
   ]
  },
  {
   "cell_type": "markdown",
   "id": "94a58462",
   "metadata": {},
   "source": [
    "Ta tiến hành đọc dữ liệu như đã làm đối với các file đuôi `.idx3-ubyte`, do sau đó ta cần đưa các dữ liệu input về giảm chiều theo PCA nên ta sẽ duỗi thẳng kích cỡ một dữ liệu đầu vào, từ kích cỡ (28 x 28) về thành (784 x 1)"
   ]
  },
  {
   "cell_type": "code",
   "execution_count": 2,
   "id": "6dea3459",
   "metadata": {},
   "outputs": [
    {
     "name": "stdout",
     "output_type": "stream",
     "text": [
      "X-train shape: (60000, 784)\n",
      "y-train shape: (60000,)\n",
      "X-val shape: (10000, 784)\n",
      "y-val shape: (10000,)\n"
     ]
    }
   ],
   "source": [
    "# Đường dẫn tới các file chứa dữ liệu\n",
    "X_train_dir = './data/train-images.idx3-ubyte'\n",
    "y_train_dir = './data/train-labels.idx1-ubyte'\n",
    "X_val_dir = './data/t10k-images.idx3-ubyte'\n",
    "y_val_dir = './data/t10k-labels.idx1-ubyte'\n",
    "\n",
    "# \n",
    "X_train = idx2numpy.convert_from_file(X_train_dir).reshape(60000, -1)\n",
    "y_train = idx2numpy.convert_from_file(y_train_dir)\n",
    "X_val = idx2numpy.convert_from_file(X_val_dir).reshape(10000, -1)\n",
    "y_val = idx2numpy.convert_from_file(y_val_dir)\n",
    "\n",
    "\n",
    "# Kích thước của bộ dữ liệu\n",
    "print(\"X-train shape:\", X_train.shape)\n",
    "print(\"y-train shape:\", y_train.shape)\n",
    "print(\"X-val shape:\", X_val.shape)\n",
    "print(\"y-val shape:\", y_val.shape)"
   ]
  },
  {
   "cell_type": "markdown",
   "id": "d6de5aa4",
   "metadata": {},
   "source": [
    "<h3>\n",
    "3. Thực hiện giảm số chiều xuống 100 bằng PCA và chuẩn hoá dữ liệu\n",
    "</h3>"
   ]
  },
  {
   "cell_type": "markdown",
   "id": "67f6d848",
   "metadata": {},
   "source": [
    "Ta áp dụng thuật toán xây dựng PCA ở phần trước, trước tiên, ta hợp nhất bộ dữ liệu **X_train** và **X_val** lại thành một biến **X** duy nhất"
   ]
  },
  {
   "cell_type": "code",
   "execution_count": 3,
   "id": "c46d3de5",
   "metadata": {},
   "outputs": [
    {
     "name": "stdout",
     "output_type": "stream",
     "text": [
      "X-shape: (70000, 784)\n"
     ]
    }
   ],
   "source": [
    "X = np.concatenate((X_train, X_val))\n",
    "print(\"X-shape:\", X.shape)"
   ]
  },
  {
   "cell_type": "code",
   "execution_count": 4,
   "id": "c40814bc",
   "metadata": {},
   "outputs": [],
   "source": [
    "def myPCA(X, k = 3):\n",
    "    N  = X.shape[1]\n",
    "    X_bar = X.mean(axis=1).reshape(-1, 1)\n",
    "    X_hat = X - X_bar\n",
    "    S = (X_hat @ X_hat.T) / N\n",
    "    SVD = np.linalg.svd(S)\n",
    "    U = SVD[0]\n",
    "    lambd = SVD[1]\n",
    "    Z = U[:, :k].T @ X_hat\n",
    "    z = Z.T\n",
    "    return z"
   ]
  },
  {
   "cell_type": "code",
   "execution_count": 5,
   "id": "3fad8bd7",
   "metadata": {},
   "outputs": [],
   "source": [
    "X_pca = myPCA(X.T, k = 100)"
   ]
  },
  {
   "cell_type": "code",
   "execution_count": 6,
   "id": "1c7a1584",
   "metadata": {},
   "outputs": [
    {
     "name": "stdout",
     "output_type": "stream",
     "text": [
      "X-train-pca shape: (60000, 100)\n",
      "y-train shape: (60000,)\n",
      "X-val-pca shape: (10000, 100)\n",
      "y-val shape: (10000,)\n"
     ]
    }
   ],
   "source": [
    "X_train_pca = X_pca[:X_train.shape[0]]\n",
    "X_val_pca = X_pca[X_train.shape[0]:]\n",
    "\n",
    "print(\"X-train-pca shape:\", X_train_pca.shape)\n",
    "print(\"y-train shape:\", y_train.shape)\n",
    "print(\"X-val-pca shape:\", X_val_pca.shape)\n",
    "print(\"y-val shape:\", y_val.shape)"
   ]
  },
  {
   "cell_type": "markdown",
   "id": "a02de1c5",
   "metadata": {},
   "source": [
    "Trước khi bước vào thực hiện training mô hình, ta sẽ chuẩn hoá dữ liệu đầu vào về đoạn [0, 1]"
   ]
  },
  {
   "cell_type": "code",
   "execution_count": 7,
   "id": "c1141048",
   "metadata": {},
   "outputs": [],
   "source": [
    "def std_scaler(X):\n",
    "    min_max = []\n",
    "    for i in range(X.shape[1]):\n",
    "        min_val = copy.deepcopy(np.min(X[:, i]))\n",
    "        max_val = copy.deepcopy(np.max(X[:, i]))\n",
    "\n",
    "        X[:, i] = (X[:, i] - min_val) / (max_val - min_val)\n",
    "        min_max.append((min_val, max_val))\n",
    "        \n",
    "    return X, min_max\n",
    "\n",
    "X_train_pca, min_max = std_scaler(X_train_pca)"
   ]
  },
  {
   "cell_type": "markdown",
   "id": "8f92568c",
   "metadata": {},
   "source": [
    "<h3>\n",
    "    4. Xây dựng mô hình ANN\n",
    "</h3>"
   ]
  },
  {
   "cell_type": "markdown",
   "id": "c0d27eb1",
   "metadata": {},
   "source": [
    "Cũng tương tự với mô hình Multinomial Logistic Regression, ta có những quy ước sau trước khi bước vào xây dựng các bước thuật toán cho mô hình ANN"
   ]
  },
  {
   "cell_type": "markdown",
   "id": "b60d6b5f",
   "metadata": {},
   "source": [
    "Ở đây ta có một số quy ước sau:\n",
    "\n",
    "- $N$ và $D$ lần lượt là số hàng dữ liệu và số thuộc tính, (với bài toán của chúng ta $N = 60000$, $D = 100$.\n",
    "\n",
    "- $N_{batch}$ là kích cỡ trong một mini-batch\n",
    "\n",
    "- $x_{j}^{(i)}$: Là mẫu dữ liệu $x$ đầu vào, với $i$ là chỉ số hàng (chỉ số một mẫu dữ liệu hay một example), $j$ là chỉ số thuộc tính, ta quy ước với một mẫu $x^{(i)}$ là có kích cỡ $(100, 1)$.\n",
    "\n",
    "- $L$: là số lượng các layer của kiến trúc mạng Neural, tính từ hidden layer thứ nhất cho đến output layer.\n",
    "\n",
    "- $n^{[l]}$: là số lượng các unit trong layer thứ $l$, với $l = 0, 1, 2,... ,L$ ($l = 0$ chính là input layer.\n",
    "\n",
    "\n",
    "- $y^{(i)}$: Là nhãn $y$ đầu ra, với $i$ là chỉ số hàng (chỉ số một mẫu dữ liệu hay một example), ở đây, ta sẽ chuẩn hoá các nhãn đầu ra về dạng one-hot vector có cỡ là $(10, 1)$\n",
    "\n",
    "\n",
    "- $W^{[l]}$: Ma trận trọng số weights đối với layer thứ $l$, ở đây $l = 1, 2, 3,..., L$, ta quy ước các ma trận trọng số này có kích cỡ $(n^{[l]}, n^{[l - 1]})$. Khi đó đối với bài toán của chúng ta, kích cỡ của $W^{[1]}$ và $W^{[L]}$ lần lượt là $(n^{[1]}, 100)$ và $(10, n^{[L - 1]})$\n",
    "\n",
    "\n",
    "- $b^{[l]}$: Vector bias đối với layer thứ $l$, tương tự $l = 1, 2, 3,..., L$, ta quy ước các vector này có kích cỡ $(n^{[l]}, 1)$\n",
    "\n",
    "- $z^{[l]}$: Hàm biến đổi tuyến tính ở layer thứ $l$, $(l = 1, 2, 3,..., L)$, hàm này là một vector hàm , ta quy ước các vector này có kích cỡ $(n^{[l]}, 1)$\n",
    "\n",
    "- $a^{[l]}$: Hàm kích hoạt ở layer thứ $l$, $(l = 0, 2, 3,..., L)$, Ở đây, $a^{[0]} = x^{(i)}$, với các giá trị $l > 0$, hàm này có cùng kích cỡ với $z^{[l]}$ kích cỡ $(n^{[l]}, 1)$, đối với bài toán của chúng ta, từ $l = 1, 2, 3,..., L - 1$, ta sử dụng hàm kích hoạt $ReLU$, với layer cuối cùng thì hàm kích hoạt sẽ là $Softmax$\n",
    "\n",
    "- ${\\partial W^{[l]}}$: Ma trận đạo hàm theo hàm mục tiêu đối với trọng số weights ở layer thứ $l$, có cỡ tương tự $W^{[l]}$ là $(n^{[l]}, n^{[l - 1]})$\n",
    "\n",
    "- ${\\partial b^{[l]}}$: Vector đạo hàm theo hàm mục tiêu đối với bias ở layer thứ $l$, có cỡ tương tự $b^{[l]}$ là $(n^{[l]}, 1)$\n",
    "\n",
    "- ${\\partial W^{[l](i)}}$: Ma trận đạo hàm theo hàm tổn thất đối với trọng số weights ở layer thứ $l$, ở dữ liệu thứ $i$.\n",
    "\n",
    "- ${\\partial b^{[l](i)}}$: Vector đạo hàm theo hàm tổn thất đối với bias ở layer thứ $l$, ở dữ liệu thứ $i$.\n",
    "\n",
    "- ${\\partial z^{[l](i)}}$: Vector đạo hàm theo hàm tổn thất đối với $z^{[l]}$, ở dữ liệu thứ $i$."
   ]
  },
  {
   "cell_type": "markdown",
   "id": "635ec9d7",
   "metadata": {},
   "source": [
    "Ta có các bước để training mô hình mạng Neural nhân tạo với $L$ layer cho dữ liệu MNIST như sau:\n",
    "    \n",
    "    \n",
    "1. Khởi tạo các giá trị $W^{[l]}$ và $b^{[l]}$. Ở đây để giảm bớt hiện tượng vanishing gradient trong quá trình training, ta sẽ sử dụng cách khởi tạo He (Hay còn tên gọi khác là Kaiming). Với mỗi phần tử trong ma trận $W^{[l]}$ sẽ được khởi tạo tuân theo phân bố chuẩn $\\mathcal{N}(0, \\frac{2}{n^{[l - 1]}})$. Đối với $b^{[l]}$ có thể khởi tạo theo cách này hoặc khởi tạo ngẫu nhiên các giá trị bằng 0. \n",
    "\n",
    "\n",
    "2. ***For*** $epoch := 1, 2,...$:<br>\n",
    "> Chúng ta sẽ chia bộ dữ liệu training thành các mini-batch và train trên mỗi mini-batch đấy <br>\n",
    "> ***For*** step in step_per_epoch:\n",
    ">> 2.1 ***For*** $i := 1, 2, 3,...N_{batch}$: <br>\n",
    ">>> ***Forward propagation***: <br><br>\n",
    ">>> $z^{[1]} = W^{[1]}a^{[0]} + b^{[1]}$ <br>\n",
    ">>> $a^{[1]} = ReLU(z^{[1]})$ <br>\n",
    ">>> $z^{[2]} = W^{[2]}a^{[1]} + b^{[1]}$ <br>\n",
    ">>> $a^{[2]} = ReLU(z^{[2]})$ <br>\n",
    ">>> $\\hspace{2em}\\vdots$ <br>\n",
    ">>> $z^{[L - 1]} = W^{[L - 1]}a^{[L - 2])} + b^{[L - 1]}$ <br>\n",
    ">>> $a^{[L - 1]} = ReLU(z^{[L - 1]})$ <br>\n",
    ">>> $z^{[L]} = W^{[L]}a^{[L - 1]} + b^{[L]}$ <br>\n",
    ">>> $a^{[L]} = Softmax(z^{[L]})$ <br><br>\n",
    ">>> Hàm tổn thất tại dữ liệu thứ $(i)$: $L(a^{[L]}, {y}^{(i)}) = -({y}^{(i)})^{T}\\log{a^{[L]}}$ <br><br>\n",
    ">>> ***Backward propagation***: <br><br>\n",
    ">>> ${\\partial z^{[L](i)}} = a^{[L]} - y^{(i)}$ <br><br>\n",
    ">>> ${\\partial W^{[L](i)}} = {\\partial z^{[L](i)}}(a^{[L - 1]})^{T}$ <br><br>\n",
    ">>> ${\\partial b^{[L](i)}} = {\\partial z^{[L](i)}}$ <br><br>\n",
    ">>> ${\\partial z^{[L - 1](i)}} = (W^{[L]})^{T}{\\partial z^{[L](i)}} \\odot I\\{z^{[L - 1](i)} > \\vec{0}\\}$ (Đây là đạo hàm của hàm $ReLU$)<br><br>\n",
    ">>> ${\\partial W^{[L - 1](i)}} = {\\partial z^{[L - 1](i)}}(a^{[L - 2]})^{T}$ <br><br>\n",
    ">>> ${\\partial b^{[L - 1](i)}} = {\\partial z^{[L - 1](i)}}$ <br><br>\n",
    ">>> $\\hspace{2em}\\vdots$ <br><br>\n",
    ">>> ${\\partial z^{[1](i)}} = (W^{[2]})^{T}{\\partial z^{[2](i)}} \\odot I\\{z^{[1](i)} > \\vec{0}\\}$<br><br>\n",
    ">>> ${\\partial W^{[1](i)}} = {\\partial z^{[1](i)}}(a^{[0]})^{T}$ <br><br>\n",
    ">>> ${\\partial b^{[1](i)}} = {\\partial z^{[1](i)}}$ <br><br>\n",
    "\n",
    "\n",
    "\n",
    ">> 2.2 Hàm mục tiêu $J = \\frac{1}{N_{batch}}\\sum_{i=1}^{N_{batch}} L(a^{[L]}, {y}^{(i)})$\n",
    "\n",
    ">> 2.3 Ta có ${\\partial W^{[l]}} = \\frac{1}{N_{batch}}\\sum_{i=1}^{N_{batch}}{\\partial W^{[l](i)}}$ <br><br> $\\hspace{3.3em}{\\partial b^{[l]}} = \\frac{1}{N_{batch}}\\sum_{i=1}^{N_{batch}}{\\partial b^{[l](i)}}$\n",
    "\n",
    ">> 2.4 Để cập nhật $W$ và $b$, chúng ta sẽ sử dụng thuật toán RMSProp là một thuật toán cải biên của Gradient descent:<br><br>\n",
    ">> $SW^{[l]} := \\beta{SW^{[l]}} - (1 - \\beta){\\partial W^{[l]}}\\odot{\\partial W^{[l]}}$ (Giá trị $\\beta$ thường được lựa chọn là 0.999)<br>\n",
    ">> $Sb^{[l]} := \\beta{Sb^{[l]}} - (1 - \\beta){\\partial b^{[l]}}\\odot{\\partial b^{[l]}}$ <br>\n",
    ">> $W^{[l]} := W^{[l]} - \\alpha\\frac{{\\partial W^{[l]}}}{\\sqrt{SW^{[l]} + \\epsilon}}$ <br>\n",
    ">> $b^{[l]} := b^{[l]} - \\alpha\\frac{{\\partial b^{[l]}}}{\\sqrt{Sb^{[l]} + \\epsilon}}$"
   ]
  },
  {
   "cell_type": "markdown",
   "id": "00cc25a5",
   "metadata": {},
   "source": [
    "Tiếp theo, ta tiến hành triển khai mô hình vào code theo các bước trên.\n",
    "Trước tiên, ta cần đổi y về dạng one-hot vector"
   ]
  },
  {
   "cell_type": "code",
   "execution_count": 8,
   "id": "b48d0c5c",
   "metadata": {},
   "outputs": [
    {
     "name": "stdout",
     "output_type": "stream",
     "text": [
      "[[0. 0. 0. ... 0. 0. 0.]\n",
      " [1. 0. 0. ... 0. 0. 0.]\n",
      " [0. 0. 0. ... 0. 0. 0.]\n",
      " ...\n",
      " [0. 0. 0. ... 0. 0. 0.]\n",
      " [0. 0. 0. ... 0. 0. 0.]\n",
      " [0. 0. 0. ... 0. 1. 0.]]\n"
     ]
    }
   ],
   "source": [
    "y_train_onehot = np.zeros((y_train.shape[0], 10))\n",
    "\n",
    "for i, y in enumerate(y_train_onehot):\n",
    "    y[y_train[i]] = 1\n",
    "    \n",
    "print(y_train_onehot)"
   ]
  },
  {
   "cell_type": "code",
   "execution_count": 9,
   "id": "38473a89",
   "metadata": {},
   "outputs": [
    {
     "name": "stdout",
     "output_type": "stream",
     "text": [
      "Số chiều của X_train và y_train sau khi đã qua tất cả các bước chuẩn hoá:\n",
      "X-train shape: (60000, 100)\n",
      "y-train shape: (60000, 10)\n"
     ]
    }
   ],
   "source": [
    "print(\"Số chiều của X_train và y_train sau khi đã qua tất cả các bước chuẩn hoá:\")\n",
    "print(f\"X-train shape: {X_train_pca.shape}\")\n",
    "print(f\"y-train shape: {y_train_onehot.shape}\")"
   ]
  },
  {
   "cell_type": "markdown",
   "id": "57446990",
   "metadata": {},
   "source": [
    "Ta định nghĩa hàm softmax, relu và đạo hàm của relu"
   ]
  },
  {
   "cell_type": "code",
   "execution_count": 10,
   "id": "2659e5f8",
   "metadata": {},
   "outputs": [],
   "source": [
    "def softmax(Z):\n",
    "    C = np.max(Z)\n",
    "    return np.exp(Z - C) / np.sum(np.exp(Z - C))\n",
    "\n",
    "def relu(Z):\n",
    "    return np.maximum(Z, 0)\n",
    "\n",
    "def derivative_relu(Z):\n",
    "    return Z > 0"
   ]
  },
  {
   "cell_type": "markdown",
   "id": "4414e361",
   "metadata": {},
   "source": [
    "Tiến hành xây dựng mô hình ANN, ở đây người dùng có thể điền số hidden layer và số units ở mỗi hidden layer"
   ]
  },
  {
   "cell_type": "code",
   "execution_count": 11,
   "id": "b4edb5d0",
   "metadata": {},
   "outputs": [],
   "source": [
    "# Hàm khởi tạo W, b ở mỗi layer, chúng ta sử dụng khởi tạo He\n",
    "def initialize(unit_layer_0, unit_layer_L, hidden_layer_nums, units_per_hidden_layer):\n",
    "    \n",
    "    # He initialization cho các trọng số ở layer 1    \n",
    "    he = 2 / np.sqrt(unit_layer_0)\n",
    "   \n",
    "    # Layer 1     \n",
    "    W = [np.random.randn(units_per_hidden_layer[0], unit_layer_0) * he]\n",
    "    b = [np.random.randn(units_per_hidden_layer[0], 1) * he]\n",
    "     \n",
    "    # Layer 2 --> L - 1    \n",
    "    for i in range(1, hidden_layer_nums):\n",
    "        # He initialization cho các trọng số từ layer 2 - layer L - 1    \n",
    "        he = 2 / np.sqrt(units_per_hidden_layer[i - 1])\n",
    "        \n",
    "        W.append(np.random.randn(units_per_hidden_layer[i], units_per_hidden_layer[i - 1]) * he)\n",
    "        b.append(np.random.randn(units_per_hidden_layer[i], 1) * he)\n",
    "    \n",
    "    # He initialization cho các trọng số ở layer L     \n",
    "    he = 2 / np.sqrt(units_per_hidden_layer[-1])\n",
    "    \n",
    "    W.append(np.random.randn(unit_layer_L, units_per_hidden_layer[-1]) * he)\n",
    "    b.append(np.random.randn(unit_layer_L, 1) * he)\n",
    "        \n",
    "    return W, b"
   ]
  },
  {
   "cell_type": "code",
   "execution_count": 12,
   "id": "879cfddd",
   "metadata": {},
   "outputs": [],
   "source": [
    "def ANN(X_train, y_train, hidden_layer_nums, units_per_hidden_layer, learning_rate, epochs, batch_size = 64, epsilon = 1e-9):\n",
    "    \n",
    "    Loss_save = []\n",
    "    Loss_save_epochs = []\n",
    "\n",
    "    # ---------------------------------------------------------------------------     \n",
    "    # Khởi tạo các tham số weights và bias trong từng các layer\n",
    "    W, b = initialize(X_train.shape[1], y_train.shape[1], hidden_layer_nums, units_per_hidden_layer)\n",
    "    \n",
    "    #-------------------------------------------------------------------------------\n",
    "    \n",
    "    # Số lần chạy các mini batch trong 1 epoch\n",
    "    N = X_train.shape[0]\n",
    "    step_per_epochs = (N // batch_size) + 1\n",
    "    \n",
    "    \n",
    "    # gradient của weights\n",
    "    beta = 0.999\n",
    "    SW = [np.zeros(W[i].shape) for i in range(len(W) - 1, -1, -1)]\n",
    "    Sb = [np.zeros(b[i].shape) for i in range(len(b) - 1, -1, -1)]\n",
    "    \n",
    "    for epoch in range(epochs): \n",
    "            for step in range(step_per_epochs):\n",
    "                index = np.random.choice(N, batch_size, replace=False)\n",
    "                # gradient của weights\n",
    "                DW = [np.zeros(W[i].shape) for i in range(len(W) - 1, -1, -1)]\n",
    "                Db = [np.zeros(b[i].shape) for i in range(len(b) - 1, -1, -1)]\n",
    "                J = 0\n",
    "\n",
    "                for i in index:\n",
    "                    z = []\n",
    "                    a = []\n",
    "\n",
    "                    # Chuyển vị thành các vector cột             \n",
    "                    x = X_train[i].reshape(-1, 1)\n",
    "                    y = y_train[i].reshape(-1, 1)\n",
    "\n",
    "                    a.append(x)\n",
    "\n",
    "                    # Forward propagation:\n",
    "                    #-------------------------------------------------------------------------------             \n",
    "\n",
    "                    # Các hidden layer          \n",
    "                    for layer in range(hidden_layer_nums):\n",
    "                        z_layer = W[layer] @ a[layer] + b[layer]\n",
    "                        a_layer = relu(z_layer)\n",
    "\n",
    "                        z.append(z_layer)\n",
    "                        a.append(a_layer)\n",
    "\n",
    "                    # output layer:\n",
    "                    z_layer = W[-1] @ a[-1] + b[-1]\n",
    "                    a_layer = softmax(z_layer)\n",
    "\n",
    "                    z.append(z_layer)\n",
    "                    a.append(a_layer)\n",
    "                    #-------------------------------------------------------------------------------    \n",
    "\n",
    "\n",
    "\n",
    "\n",
    "                    L = float(- (y.T @ np.log(a[-1])))\n",
    "                    dz = []      #  dL / dz\n",
    "                    dW = []      #  dL / dW\n",
    "                    db = []      #  dL / db\n",
    "\n",
    "\n",
    "\n",
    "\n",
    "                    # Backward propagation:\n",
    "                    #--------------------------------------------------------------------------------\n",
    "                    #--------------------------------------------------------------------------------\n",
    "                    # backward ở ouput layer             \n",
    "                    dz.append(a[-1] - y)\n",
    "                    dW.append(dz[-1] @ a[-2].T)\n",
    "                    db.append(dz[-1])\n",
    "\n",
    "                    # backward từ layer L-1 trở xuống:\n",
    "                    for back_layer in range(hidden_layer_nums, 0, -1):\n",
    "                        dz_back = W[back_layer].T @ dz[-1] * derivative_relu(z[back_layer - 1])\n",
    "                        dz.append(dz_back)\n",
    "\n",
    "                        dw_back =  dz[-1] @ a[back_layer - 1].T\n",
    "                        dW.append(dw_back)\n",
    "\n",
    "                        db_back = dz_back\n",
    "                        db.append(db_back)\n",
    "\n",
    "\n",
    "                    # Gradient tổng quát:\n",
    "                    for i in range(hidden_layer_nums + 1):\n",
    "                        DW[i] += dW[i]\n",
    "                        Db[i] += db[i]\n",
    "\n",
    "                    J += L\n",
    "\n",
    "                for i in range(hidden_layer_nums + 1):\n",
    "                    DW[i] = np.divide(DW[i], batch_size)\n",
    "                    Db[i] = np.divide(Db[i], batch_size)\n",
    "\n",
    "                J /= batch_size\n",
    "                Loss_save.append(J)\n",
    "\n",
    "                # RMSProp cập nhật lại W và b\n",
    "\n",
    "                for i in range(hidden_layer_nums + 1):\n",
    "                    SW[i] = SW[i] * beta + (1 - beta) * DW[i] * DW[i]\n",
    "                    Sb[i] = Sb[i] * beta + (1 - beta) * Db[i] * Db[i]\n",
    "\n",
    "                    W[i] -= learning_rate * DW[hidden_layer_nums - i] / np.sqrt(SW[hidden_layer_nums - i] + epsilon)\n",
    "                    b[i] -= learning_rate * Db[hidden_layer_nums - i] / np.sqrt(Sb[hidden_layer_nums - i] + epsilon)\n",
    "\n",
    "            if (epoch + 1) % 1 == 0:\n",
    "                print(f\"Epoch {epoch + 1}: Loss = {Loss_save[-1]}\")\n",
    "                Loss_save_epochs.append(Loss_save[-1])\n",
    "                             \n",
    "            \n",
    "\n",
    "    model = {\n",
    "        \"Weights\" : W,\n",
    "        \"Bias\" : b,\n",
    "        \"Loss\" : Loss_save_epochs\n",
    "    }\n",
    "    \n",
    "    return model\n",
    "            "
   ]
  },
  {
   "cell_type": "code",
   "execution_count": 13,
   "id": "74b5fad5",
   "metadata": {},
   "outputs": [
    {
     "name": "stdout",
     "output_type": "stream",
     "text": [
      "Epoch 1: Loss = 2.0803682313345884\n",
      "Epoch 2: Loss = 2.19201614147449\n",
      "Epoch 3: Loss = 1.9531445193517933\n",
      "Epoch 4: Loss = 2.131224242510967\n",
      "Epoch 5: Loss = 1.9828435069175105\n",
      "Epoch 6: Loss = 2.0286212066470495\n",
      "Epoch 7: Loss = 1.860989381466395\n",
      "Epoch 8: Loss = 1.7118118482438864\n",
      "Epoch 9: Loss = 1.6899188176880993\n",
      "Epoch 10: Loss = 1.6219526821735042\n",
      "Epoch 11: Loss = 1.5493565258855357\n",
      "Epoch 12: Loss = 1.4743474468212503\n",
      "Epoch 13: Loss = 1.532565838379081\n",
      "Epoch 14: Loss = 1.3911013568604764\n",
      "Epoch 15: Loss = 1.3371926514464643\n",
      "Epoch 16: Loss = 1.3066364165157578\n",
      "Epoch 17: Loss = 1.469904187366857\n",
      "Epoch 18: Loss = 1.3134968675797156\n",
      "Epoch 19: Loss = 1.2407783794334553\n",
      "Epoch 20: Loss = 1.1012259718673116\n",
      "Epoch 21: Loss = 0.8300403096135883\n",
      "Epoch 22: Loss = 1.0912185630161868\n",
      "Epoch 23: Loss = 0.9824396182801834\n",
      "Epoch 24: Loss = 0.9422630108179212\n",
      "Epoch 25: Loss = 0.8012150553093278\n",
      "Epoch 26: Loss = 0.9299976503615728\n",
      "Epoch 27: Loss = 0.7609640712065164\n",
      "Epoch 28: Loss = 0.951035753472905\n",
      "Epoch 29: Loss = 0.692819808938088\n",
      "Epoch 30: Loss = 0.8655432098293406\n",
      "Epoch 31: Loss = 0.5415056182899491\n",
      "Epoch 32: Loss = 0.7248082748617127\n",
      "Epoch 33: Loss = 0.5171465844587897\n",
      "Epoch 34: Loss = 0.608359429973897\n",
      "Epoch 35: Loss = 0.6674892332648832\n",
      "Epoch 36: Loss = 0.6155531722675535\n",
      "Epoch 37: Loss = 0.7054258496326172\n",
      "Epoch 38: Loss = 0.6255539783365852\n",
      "Epoch 39: Loss = 0.5398770991616235\n",
      "Epoch 40: Loss = 0.6325357445075577\n",
      "Epoch 41: Loss = 0.6324376335375927\n",
      "Epoch 42: Loss = 0.5986053874667122\n",
      "Epoch 43: Loss = 0.41897970208145235\n",
      "Epoch 44: Loss = 0.87906051164852\n",
      "Epoch 45: Loss = 0.31605820469181534\n",
      "Epoch 46: Loss = 0.4138961425312422\n",
      "Epoch 47: Loss = 0.2818250058334223\n",
      "Epoch 48: Loss = 0.7157177139102252\n",
      "Epoch 49: Loss = 0.4828139284105036\n",
      "Epoch 50: Loss = 0.341720097261382\n"
     ]
    }
   ],
   "source": [
    "model = ANN(X_train_pca, y_train_onehot, 2, [128, 64], learning_rate=1e-5, epochs=50, batch_size=32)"
   ]
  },
  {
   "cell_type": "markdown",
   "id": "ab0355e5",
   "metadata": {},
   "source": [
    "Ta có đồ thị của hàm mục tiêu"
   ]
  },
  {
   "cell_type": "code",
   "execution_count": 14,
   "id": "65f21d6b",
   "metadata": {},
   "outputs": [
    {
     "data": {
      "image/png": "[encoded data removed]",
      "text/plain": [
       "<Figure size 1000x900 with 1 Axes>"
      ]
     },
     "metadata": {},
     "output_type": "display_data"
    }
   ],
   "source": [
    "plt.figure(figsize=(10, 9))\n",
    "plt.plot(model[\"Loss\"])\n",
    "\n",
    "plt.xlabel(\"Số epochs\", fontsize=12)\n",
    "plt.ylabel(\"Hàm Loss\", fontsize=12)\n",
    "plt.title(\"Đồ thị hàm Loss\", fontsize=15)\n",
    "\n",
    "plt.savefig(\"loss_ANN.png\")\n",
    "plt.show()"
   ]
  },
  {
   "cell_type": "markdown",
   "id": "a351a245",
   "metadata": {},
   "source": [
    "<h3>\n",
    "    5. Đánh giá mô hình\n",
    "</h3>"
   ]
  },
  {
   "cell_type": "markdown",
   "id": "ed72fcb6",
   "metadata": {},
   "source": [
    "Để đánh giá mô hình, ta sử dụng các thông số về `accuracy`, `precision`, `recall` và `F1-score`\n",
    "\n",
    "Với các chỉ số về `precision` và `recall`, với mỗi một nhãn `C`, ta tính `precision` và `recall` tương ứng cho các lớp đó, đối với chỉ số `F1-score` ta tính trung bình các chỉ số `precision` và `recall` và `F1-score = 2PR / (P + R)`"
   ]
  },
  {
   "cell_type": "markdown",
   "id": "4e1e927f",
   "metadata": {},
   "source": [
    "<h5>\n",
    "Đối với dữ liệu training\n",
    "</h5>"
   ]
  },
  {
   "cell_type": "code",
   "execution_count": 15,
   "id": "cf072338",
   "metadata": {},
   "outputs": [],
   "source": [
    "W_model = model[\"Weights\"]\n",
    "b_model = model[\"Bias\"]\n",
    "\n",
    "y_pred_train = []\n",
    "for i in range(len(X_train_pca)):\n",
    "    x = X_train_pca[i].reshape(-1, 1)\n",
    "\n",
    "    # Forward propagation cho dự đoán\n",
    "    a_layer = x\n",
    "    z_layer = 0\n",
    "\n",
    "    for hid_layer in range(len(W_model) - 1):\n",
    "        z_layer = W_model[hid_layer] @ a_layer + b_model[hid_layer]\n",
    "        a_layer = relu(z_layer)\n",
    "\n",
    "\n",
    "    # output layer:\n",
    "    z_layer = W_model[-1] @ a_layer + b_model[-1]\n",
    "    a_layer = softmax(z_layer)\n",
    "\n",
    "    y_pred_train.append(a_layer)\n",
    "\n",
    "\n",
    "\n",
    "y_pred_train = np.array(y_pred_train).reshape(-1, 10)\n",
    "y_pred_train = np.argmax(y_pred_train, axis=1)"
   ]
  },
  {
   "cell_type": "code",
   "execution_count": 16,
   "id": "b96b8f7c",
   "metadata": {},
   "outputs": [
    {
     "name": "stdout",
     "output_type": "stream",
     "text": [
      "1. Accuracy: 0.8638\n",
      "2. Precision:\n",
      "\tLabel: \t Precision:\n",
      "\t0 \t 0.935\n",
      "\t1 \t 0.8976\n",
      "\t2 \t 0.8733\n",
      "\t3 \t 0.8703\n",
      "\t4 \t 0.8615\n",
      "\t5 \t 0.8006\n",
      "\t6 \t 0.8927\n",
      "\t7 \t 0.8791\n",
      "\t8 \t 0.7869\n",
      "\t9 \t 0.8293\n",
      "3. Recall:\n",
      "\tLabel: \t Recall:\n",
      "\t0 \t 0.935\n",
      "\t1 \t 0.9465\n",
      "\t2 \t 0.8377\n",
      "\t3 \t 0.7981\n",
      "\t4 \t 0.8795\n",
      "\t5 \t 0.8094\n",
      "\t6 \t 0.9093\n",
      "\t7 \t 0.875\n",
      "\t8 \t 0.7988\n",
      "\t9 \t 0.8339\n",
      "4. F1-score: 0.8622\n"
     ]
    }
   ],
   "source": [
    "# Accuracy\n",
    "ROUND_NUM = 4\n",
    "print(f\"1. Accuracy: {np.round(accuracy_score(y_train, y_pred_train), ROUND_NUM)}\")\n",
    "\n",
    "# Precision\n",
    "print(\"2. Precision:\")\n",
    "print(\"\\tLabel: \\t Precision:\")\n",
    "for i, precision in enumerate(precision_score(y_train, y_pred_train, average=None)):\n",
    "    print(f\"\\t{i} \\t {np.round(precision, ROUND_NUM)}\")\n",
    "    \n",
    "\n",
    "# Recall\n",
    "print(\"3. Recall:\")\n",
    "print(\"\\tLabel: \\t Recall:\")\n",
    "for i, recall in enumerate(recall_score(y_train, y_pred_train, average=None)):\n",
    "    print(f\"\\t{i} \\t {np.round(recall, ROUND_NUM)}\")\n",
    "    \n",
    "\n",
    "# F1-score\n",
    "print(f\"4. F1-score: {np.round(f1_score(y_train, y_pred_train, average='macro'), ROUND_NUM)}\")"
   ]
  },
  {
   "cell_type": "markdown",
   "id": "134e97e8",
   "metadata": {},
   "source": [
    "<h5>\n",
    "Đối với dữ liệu validation\n",
    "</h5>"
   ]
  },
  {
   "cell_type": "markdown",
   "id": "d721f82b",
   "metadata": {},
   "source": [
    "Đối với dữ liệu `X_val`, trước tiên ta cũng phải thực hiện chuẩn hoá về dạng (0, 1) theo các giá trị min, max đã lấy ở `X_train`"
   ]
  },
  {
   "cell_type": "code",
   "execution_count": 17,
   "id": "19305e4c",
   "metadata": {},
   "outputs": [],
   "source": [
    "min_max = np.array(min_max)\n",
    "\n",
    "for i in range(X_val_pca.shape[1]):\n",
    "    X_val_pca[:, i] = (X_val_pca[:, i] - min_max[i][0]) / (min_max[i][1] - min_max[i][0])"
   ]
  },
  {
   "cell_type": "code",
   "execution_count": 18,
   "id": "75fbfcf9",
   "metadata": {},
   "outputs": [],
   "source": [
    "y_pred_val = []\n",
    "for i in range(len(X_val_pca)):\n",
    "    x = X_val_pca[i].reshape(-1, 1)\n",
    "\n",
    "    # Forward propagation cho dự đoán\n",
    "    a_layer = x\n",
    "    z_layer = 0\n",
    "\n",
    "    for hid_layer in range(len(W_model) - 1):\n",
    "        z_layer = W_model[hid_layer] @ a_layer + b_model[hid_layer]\n",
    "        a_layer = relu(z_layer)\n",
    "\n",
    "\n",
    "    # output layer:\n",
    "    z_layer = W_model[-1] @ a_layer + b_model[-1]\n",
    "    a_layer = softmax(z_layer)\n",
    "\n",
    "    y_pred_val.append(a_layer)\n",
    "\n",
    "y_pred_val = np.array(y_pred_val).reshape(-1, 10)\n",
    "y_pred_val = np.argmax(y_pred_val, axis=1)"
   ]
  },
  {
   "cell_type": "code",
   "execution_count": 19,
   "id": "9dde542a",
   "metadata": {},
   "outputs": [
    {
     "name": "stdout",
     "output_type": "stream",
     "text": [
      "1. Accuracy: 0.871\n",
      "2. Precision:\n",
      "\tLabel: \t Precision:\n",
      "\t0 \t 0.9181\n",
      "\t1 \t 0.9294\n",
      "\t2 \t 0.8847\n",
      "\t3 \t 0.8543\n",
      "\t4 \t 0.8637\n",
      "\t5 \t 0.8075\n",
      "\t6 \t 0.9016\n",
      "\t7 \t 0.8669\n",
      "\t8 \t 0.803\n",
      "\t9 \t 0.8634\n",
      "3. Recall:\n",
      "\tLabel: \t Recall:\n",
      "\t0 \t 0.949\n",
      "\t1 \t 0.9515\n",
      "\t2 \t 0.8479\n",
      "\t3 \t 0.8188\n",
      "\t4 \t 0.9033\n",
      "\t5 \t 0.7948\n",
      "\t6 \t 0.8987\n",
      "\t7 \t 0.8745\n",
      "\t8 \t 0.8162\n",
      "\t9 \t 0.8394\n",
      "4. F1-score: 0.8692\n"
     ]
    }
   ],
   "source": [
    "# Accuracy\n",
    "ROUND_NUM = 4\n",
    "print(f\"1. Accuracy: {np.round(accuracy_score(y_val, y_pred_val), ROUND_NUM)}\")\n",
    "\n",
    "# Precision\n",
    "print(\"2. Precision:\")\n",
    "print(\"\\tLabel: \\t Precision:\")\n",
    "for i, precision in enumerate(precision_score(y_val, y_pred_val, average=None)):\n",
    "    print(f\"\\t{i} \\t {np.round(precision, ROUND_NUM)}\")\n",
    "    \n",
    "\n",
    "# Recall\n",
    "print(\"3. Recall:\")\n",
    "print(\"\\tLabel: \\t Recall:\")\n",
    "for i, recall in enumerate(recall_score(y_val, y_pred_val, average=None)):\n",
    "    print(f\"\\t{i} \\t {np.round(recall, ROUND_NUM)}\")\n",
    "    \n",
    "\n",
    "# F1-score\n",
    "print(f\"4. F1-score: {np.round(f1_score(y_val, y_pred_val, average='macro'), ROUND_NUM)}\")"
   ]
  },
  {
   "cell_type": "markdown",
   "id": "8b12489d",
   "metadata": {},
   "source": [
    "<center>\n",
    "    <h1>\n",
    "        END\n",
    "    </h1>\n",
    "</center>"
   ]
  }
 ],
 "metadata": {
  "kernelspec": {
   "display_name": "Python 3 (ipykernel)",
   "language": "python",
   "name": "python3"
  },
  "language_info": {
   "codemirror_mode": {
    "name": "ipython",
    "version": 3
   },
   "file_extension": ".py",
   "mimetype": "text/x-python",
   "name": "python",
   "nbconvert_exporter": "python",
   "pygments_lexer": "ipython3",
   "version": "3.9.13"
  }
 },
 "nbformat": 4,
 "nbformat_minor": 5
}
